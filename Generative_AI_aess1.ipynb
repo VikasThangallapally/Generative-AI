{
  "nbformat": 4,
  "nbformat_minor": 0,
  "metadata": {
    "colab": {
      "provenance": []
    },
    "kernelspec": {
      "name": "python3",
      "display_name": "Python 3"
    },
    "language_info": {
      "name": "python"
    }
  },
  "cells": [
    {
      "cell_type": "code",
      "source": [
        "import pandas as pd\n",
        "import numpy as np\n",
        "import matplotlib.pyplot as plt\n",
        "y=[20,30,40,50,60]\n",
        "yp=[20.5,30.3,40.2,50.6,60.7]\n",
        "print(y)\n",
        "print(yp)"
      ],
      "metadata": {
        "colab": {
          "base_uri": "https://localhost:8080/"
        },
        "id": "5NQBDDIILdwV",
        "outputId": "88888aaf-7517-487a-98ef-6a5b3d26c5ca"
      },
      "execution_count": 1,
      "outputs": [
        {
          "output_type": "stream",
          "name": "stdout",
          "text": [
            "[20, 30, 40, 50, 60]\n",
            "[20.5, 30.3, 40.2, 50.6, 60.7]\n"
          ]
        }
      ]
    },
    {
      "cell_type": "code",
      "source": [
        "from sklearn.metrics import mean_squared_error\n",
        "import matplotlib.pyplot as plt\n",
        "mse=mean_squared_error(y,yp)\n",
        "print(mse)\n"
      ],
      "metadata": {
        "colab": {
          "base_uri": "https://localhost:8080/"
        },
        "id": "HMWjUuCyLm0Z",
        "outputId": "43a2ee68-ebf2-4686-d9e8-fbe5319c2226"
      },
      "execution_count": 2,
      "outputs": [
        {
          "output_type": "stream",
          "name": "stdout",
          "text": [
            "0.24600000000000147\n"
          ]
        }
      ]
    },
    {
      "cell_type": "code",
      "source": [
        "from sklearn.metrics import mean_absolute_error\n",
        "mae=mean_absolute_error(y,yp)\n",
        "print(mae)"
      ],
      "metadata": {
        "colab": {
          "base_uri": "https://localhost:8080/"
        },
        "id": "iWcDPW25Lt4u",
        "outputId": "eaa61ee1-6a6e-48a6-dbb5-7abc1a19aa22"
      },
      "execution_count": 3,
      "outputs": [
        {
          "output_type": "stream",
          "name": "stdout",
          "text": [
            "0.4600000000000016\n"
          ]
        }
      ]
    },
    {
      "cell_type": "code",
      "source": [
        "from sklearn .metrics import root_mean_squared_error\n",
        "rmse=root_mean_squared_error(y,yp)\n",
        "print(rmse)"
      ],
      "metadata": {
        "colab": {
          "base_uri": "https://localhost:8080/"
        },
        "id": "iAn-Sxt9L0hM",
        "outputId": "89ca80fa-fdf2-45ac-a66f-f38a8b03d6de"
      },
      "execution_count": 4,
      "outputs": [
        {
          "output_type": "stream",
          "name": "stdout",
          "text": [
            "0.49598387070549127\n"
          ]
        }
      ]
    },
    {
      "cell_type": "code",
      "source": [
        "y = np.array([20, 30, 40, 50, 60])\n",
        "yp = np.array([20.5, 30.3, 40.2, 50.6, 60.7])\n",
        "mean=np.mean(y)\n",
        "mean=np.mean(yp)\n",
        "print(mean)\n",
        "squared_errors = (y - yp) ** 2\n",
        "mse = np.mean(squared_errors)\n",
        "print(mse)"
      ],
      "metadata": {
        "colab": {
          "base_uri": "https://localhost:8080/"
        },
        "id": "kvX7xgp0NAuj",
        "outputId": "38faf888-5f6c-4ccd-c3a1-646da693002e"
      },
      "execution_count": 6,
      "outputs": [
        {
          "output_type": "stream",
          "name": "stdout",
          "text": [
            "40.46\n",
            "0.24600000000000147\n"
          ]
        }
      ]
    },
    {
      "cell_type": "code",
      "source": [
        "import numpy as np\n",
        "y = np.array([20, 30, 40, 50, 60])\n",
        "yp = np.array([20.5, 30.3, 40.2, 50.6, 60.7])\n",
        "mean = np.mean(y)\n",
        "mean = np.mean(yp)\n",
        "absolute_errors = np.abs(y - yp)\n",
        "mae = np.mean(absolute_errors)\n",
        "print(mae)"
      ],
      "metadata": {
        "colab": {
          "base_uri": "https://localhost:8080/"
        },
        "id": "_MqX9o5IU5rn",
        "outputId": "292c91dd-22bc-4506-8e6e-1c025bf81afe"
      },
      "execution_count": 8,
      "outputs": [
        {
          "output_type": "stream",
          "name": "stdout",
          "text": [
            "0.4600000000000016\n"
          ]
        }
      ]
    },
    {
      "cell_type": "code",
      "source": [
        "import numpy as np\n",
        "y = np.array([20, 30, 40, 50, 60])\n",
        "yp = np.array([20.5, 30.3, 40.2, 50.6, 60.7])\n",
        "mean = np.mean(y)\n",
        "mean = np.mean(yp)\n",
        "rmse = np.sqrt(mean_squared_error(y, yp))\n",
        "print(rmse)"
      ],
      "metadata": {
        "colab": {
          "base_uri": "https://localhost:8080/"
        },
        "id": "R4J8549eUlks",
        "outputId": "68196c7f-f3b3-456d-b8e9-97829a76afb0"
      },
      "execution_count": 9,
      "outputs": [
        {
          "output_type": "stream",
          "name": "stdout",
          "text": [
            "0.49598387070549127\n"
          ]
        }
      ]
    },
    {
      "cell_type": "code",
      "source": [
        "import numpy as np\n",
        "from sklearn.metrics import classification_report, accuracy_score, precision_score, recall_score, f1_score\n",
        "Y_actual = np.array([0, 0, 1, 1, 2, 0, 0, 0, 1, 0, 2, 0, 0, 1, 1, 2, 2, 1, 0, 2, 1, 0, 2, 2, 0])\n",
        "Y_pred = np.array([0, 0, 1, 0, 2, 0, 0, 1, 1, 2, 2, 1, 0, 2, 1, 2, 2, 2, 0, 2, 1, 2, 2, 2, 2])\n",
        "accuracy_scratch = sum(Y_actual == Y_pred) / len(Y_actual)\n",
        "classes = set(Y_actual)\n",
        "precision_scratch = []\n",
        "recall_scratch = []\n",
        "f1_scratch = []\n",
        "for cls in classes:\n",
        "    tp = sum((Y_actual == cls) & (Y_pred == cls))\n",
        "    fp = sum((Y_actual != cls) & (Y_pred == cls))\n",
        "    fn = sum((Y_actual == cls) & (Y_pred != cls))\n",
        "    precision = tp / (tp + fp) if tp + fp > 0 else 0\n",
        "    recall = tp / (tp + fn) if tp + fn > 0 else 0\n",
        "    f1 = 2 * precision * recall / (precision + recall) if precision + recall > 0 else 0\n",
        "\n",
        "    precision_scratch.append(precision)\n",
        "    recall_scratch.append(recall)\n",
        "    f1_scratch.append(f1)\n",
        "precision_macro = sum(precision_scratch) / len(classes)\n",
        "recall_macro = sum(recall_scratch) / len(classes)\n",
        "f1_macro = sum(f1_scratch) / len(classes)\n",
        "accuracy_library = accuracy_score(Y_actual, Y_pred)\n",
        "precision_library = precision_score(Y_actual, Y_pred, average='macro')\n",
        "recall_library = recall_score(Y_actual, Y_pred, average='macro')\n",
        "f1_library = f1_score(Y_actual, Y_pred, average='macro')\n",
        "print(\"Evaluation Metrics from Scratch:\")\n",
        "print(f\"Accuracy: {accuracy_scratch}\")\n",
        "print(f\"Precision: {precision_macro}\")\n",
        "print(f\"Recall: {recall_macro}\")\n",
        "print(f\"F1-Score: {f1_macro}\")\n",
        "\n",
        "print(\"\\nEvaluation Metrics from Libraries:\")\n",
        "print(f\"Accuracy: {accuracy_library}\")\n",
        "print(f\"Precision: {precision_library}\")\n",
        "print(f\"Recall: {recall_library}\")\n",
        "print(f\"F1-Score: {f1_library}\")\n"
      ],
      "metadata": {
        "colab": {
          "base_uri": "https://localhost:8080/"
        },
        "id": "X2VJ1irHWFNo",
        "outputId": "1d77a448-1b9e-425b-8e17-24f321b62753"
      },
      "execution_count": 10,
      "outputs": [
        {
          "output_type": "stream",
          "name": "stdout",
          "text": [
            "Evaluation Metrics from Scratch:\n",
            "Accuracy: 0.68\n",
            "Precision: 0.7023809523809524\n",
            "Recall: 0.7056277056277057\n",
            "F1-Score: 0.6729644624381467\n",
            "\n",
            "Evaluation Metrics from Libraries:\n",
            "Accuracy: 0.68\n",
            "Precision: 0.7023809523809524\n",
            "Recall: 0.7056277056277057\n",
            "F1-Score: 0.6729644624381467\n"
          ]
        }
      ]
    }
  ]
}